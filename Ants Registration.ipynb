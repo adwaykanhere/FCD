{
 "cells": [
  {
   "cell_type": "code",
   "execution_count": 1,
   "metadata": {},
   "outputs": [],
   "source": [
    "import ants"
   ]
  },
  {
   "cell_type": "code",
   "execution_count": 2,
   "metadata": {},
   "outputs": [],
   "source": [
    "in_image = ants.image_read(\"/home/scmia/SSNI/Dataset1/DTI/CON_01/CON_01_DTI_FA.nii.gz\")\n",
    "ref_image  = ants.image_read(\"/home/scmia/SSNI/Dataset1/T1/CON_01/CON_01_T1_SS.nii.gz\")"
   ]
  },
  {
   "cell_type": "code",
   "execution_count": 3,
   "metadata": {},
   "outputs": [
    {
     "name": "stdout",
     "output_type": "stream",
     "text": [
      "{'warpedmovout': ANTsImage\n",
      "\t Pixel Type : float\n",
      "\t Components : 1\n",
      "\t Dimensions : (165, 256, 256)\n",
      "\t Spacing    : (1.0, 1.0, 1.0)\n",
      "\t Origin     : (-82.14944458007812, 122.86477661132812, -124.54185485839844)\n",
      "\t Direction  : [ 1.  0.  0.  0. -1.  0.  0.  0.  1.]\n",
      ", 'warpedfixout': ANTsImage\n",
      "\t Pixel Type : float\n",
      "\t Components : 1\n",
      "\t Dimensions : (128, 128, 60)\n",
      "\t Spacing    : (1.75, 1.75, 2.5)\n",
      "\t Origin     : (-112.14944458007812, 102.78699493408203, -37.459346771240234)\n",
      "\t Direction  : [ 1.  0.  0.  0. -1.  0.  0.  0.  1.]\n",
      ", 'fwdtransforms': [], 'invtransforms': []}\n"
     ]
    }
   ],
   "source": [
    "mytx = ants.registration(fixed=ref_image,moving=in_image,transformlist='SyN', outprefix=\"/home/scmia/SSNI/datset1/CON_01_DWI2T1_SyN\")\n",
    "print(mytx)\n"
   ]
  },
  {
   "cell_type": "code",
   "execution_count": 4,
   "metadata": {},
   "outputs": [],
   "source": [
    "reg_image_SyN=ants.apply_transforms(fixed=ref_image,moving=in_image,transformlist=mytx['fwdtransforms'])\n",
    "invreg_image_SyN=ants.apply_transforms(fixed=in_image,moving=ref_image,transformlist=mytx['invtransforms'])"
   ]
  },
  {
   "cell_type": "code",
   "execution_count": 5,
   "metadata": {},
   "outputs": [],
   "source": [
    "ants.image_write(reg_image_SyN,\"/home/scmia/SSNI/dataset1/CON_01_DTI2T1_reg_SyN.nii.gz\")\n",
    "ants.image_write(invreg_image_SyN,\"/home/scmia/SSNI/dataset1/CON_01_T12DTI_reg_SyN.nii.gz\")"
   ]
  },
  {
   "cell_type": "code",
   "execution_count": 6,
   "metadata": {},
   "outputs": [
    {
     "name": "stdout",
     "output_type": "stream",
     "text": [
      "{'warpedmovout': ANTsImage\n",
      "\t Pixel Type : float\n",
      "\t Components : 1\n",
      "\t Dimensions : (165, 256, 256)\n",
      "\t Spacing    : (1.0, 1.0, 1.0)\n",
      "\t Origin     : (-82.14944458007812, 122.86477661132812, -124.54185485839844)\n",
      "\t Direction  : [ 1.  0.  0.  0. -1.  0.  0.  0.  1.]\n",
      ", 'warpedfixout': ANTsImage\n",
      "\t Pixel Type : float\n",
      "\t Components : 1\n",
      "\t Dimensions : (128, 128, 60)\n",
      "\t Spacing    : (1.75, 1.75, 2.5)\n",
      "\t Origin     : (-112.14944458007812, 102.78699493408203, -37.459346771240234)\n",
      "\t Direction  : [ 1.  0.  0.  0. -1.  0.  0.  0.  1.]\n",
      ", 'fwdtransforms': [], 'invtransforms': []}\n"
     ]
    }
   ],
   "source": [
    "mytx_affine = ants.registration(fixed=ref_image,moving=in_image,transformlist='affine', outprefix=\"/home/scmia/SSNI/datset1/CON_01_DWI2T1_affine\")\n",
    "print(mytx_affine)"
   ]
  },
  {
   "cell_type": "code",
   "execution_count": 7,
   "metadata": {},
   "outputs": [],
   "source": [
    "reg_image_aff=ants.apply_transforms(fixed=ref_image,moving=in_image,transformlist=mytx['fwdtransforms'])\n",
    "invreg_image_aff=ants.apply_transforms(fixed=in_image,moving=ref_image,transformlist=mytx['invtransforms'])"
   ]
  },
  {
   "cell_type": "code",
   "execution_count": 8,
   "metadata": {},
   "outputs": [],
   "source": [
    "ants.image_write(reg_image_aff,\"/home/scmia/SSNI/dataset1/CON_01_DTI2T1_reg_aff.nii.gz\")\n",
    "ants.image_write(invreg_image_aff,\"/home/scmia/SSNI/dataset1/CON_01_T12DTI_reg_SyN.nii.gz\")"
   ]
  },
  {
   "cell_type": "code",
   "execution_count": null,
   "metadata": {},
   "outputs": [],
   "source": []
  }
 ],
 "metadata": {
  "kernelspec": {
   "display_name": "Python 3",
   "language": "python",
   "name": "python3"
  },
  "language_info": {
   "codemirror_mode": {
    "name": "ipython",
    "version": 3
   },
   "file_extension": ".py",
   "mimetype": "text/x-python",
   "name": "python",
   "nbconvert_exporter": "python",
   "pygments_lexer": "ipython3",
   "version": "3.7.3"
  }
 },
 "nbformat": 4,
 "nbformat_minor": 2
}
